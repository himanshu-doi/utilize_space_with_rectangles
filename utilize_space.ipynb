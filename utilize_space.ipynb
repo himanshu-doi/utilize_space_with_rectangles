{
 "cells": [
  {
   "cell_type": "code",
   "execution_count": 1,
   "metadata": {},
   "outputs": [],
   "source": [
    "import numpy as np\n",
    "import cv2\n",
    "import matplotlib.pyplot as plt\n",
    "import copy"
   ]
  },
  {
   "cell_type": "markdown",
   "metadata": {},
   "source": [
    "### Class to fill rectangles "
   ]
  },
  {
   "cell_type": "code",
   "execution_count": 2,
   "metadata": {},
   "outputs": [],
   "source": [
    "class fill_rectangles():\n",
    "    \"\"\"\n",
    "    Class to fill rectangles in a space with two existing rectangles\n",
    "    \"\"\"\n",
    "    def __init__(self, rect_H, rect_W, rect_h, rect_w, rect1_lb, rect2_lb):\n",
    "        \"\"\"\n",
    "        Initializing the class variables\n",
    "        \n",
    "        Parameters: \n",
    "        rect_H (int): big rectangle height\n",
    "        rect_W (int): big rectangle width\n",
    "        rect_h (int): small rectangle height\n",
    "        rect_w (int): small rectangle width\n",
    "        rect1_lb (tuple): rectangle 1 left bottom point (x,y)\n",
    "        rect2_lb (tuple): rectangle 2 left bottom point (x,y)\n",
    "        \"\"\"\n",
    "        self.new_rectangles = []\n",
    "\n",
    "        self.rect_H = rect_H\n",
    "        self.rect_W = rect_W\n",
    "\n",
    "        self.rect_h = rect_h\n",
    "        self.rect_w = rect_w\n",
    "\n",
    "        self.min_rect_dim = 10\n",
    "        self.pad=5\n",
    "        # all points in (x, y) format\n",
    "#         origin = (0,0)\n",
    "\n",
    "        # Left bottom points of initial two rectangles\n",
    "        self.rect1_lb = rect1_lb\n",
    "        self.rect2_lb = rect2_lb\n",
    "\n",
    "        # Right top points of initial two rectangles \n",
    "        self.rect1_rt = (self.rect1_lb[0]+self.rect_w, self.rect1_lb[1]+self.rect_h)\n",
    "        self.rect2_rt = (self.rect2_lb[0]+self.rect_w, self.rect2_lb[1]+self.rect_h)\n",
    "        \n",
    "        if (self.rect1_rt[1]>self.rect_H) or (self.rect2_rt[1]>self.rect_H):\n",
    "            raise Exception(\"Inner rectangle height cannot be more than image height\")\n",
    "        if (self.rect1_rt[0]>self.rect_W) or (self.rect2_rt[0]>self.rect_W):\n",
    "            raise Exception(\"Inner rectangle width cannot be more than image width\")\n",
    "\n",
    "        # Minimum and maximum x, y values\n",
    "        self.min_x = min(self.rect1_lb[0], self.rect2_lb[0])\n",
    "        self.min_y = min(self.rect1_lb[1], self.rect2_lb[1])\n",
    "        self.max_x = max(self.rect1_rt[0], self.rect2_rt[0])\n",
    "        self.max_y = max(self.rect1_rt[1], self.rect2_rt[1])\n",
    "        # boundaries\n",
    "        self.boundaries = [self.min_x, self.min_y, self.max_x, self.max_y]\n",
    "        \n",
    "        \n",
    "    def check_boundary(self, boundaries, left=False, right=False, top=False, bottom=False):\n",
    "        \"\"\"\n",
    "        Method to check if a new rectangle can be put near boundaries\n",
    "        checks if a minumum side width rectangle can be accomodated\n",
    "        \"\"\"\n",
    "        min_x, min_y, max_x, max_y = boundaries\n",
    "        if left:\n",
    "            if min_x>(self.min_rect_dim+2*self.pad):\n",
    "#                 print(\"space found on left: \", min_x)\n",
    "                return True\n",
    "            else:\n",
    "                return False\n",
    "        if right:\n",
    "            if (self.rect_W-max_x)>(self.min_rect_dim+2*self.pad):\n",
    "#                 print(\"space found on right: \", self.rect_W-max_x)\n",
    "                return True\n",
    "            else:\n",
    "                return False\n",
    "        if top:\n",
    "            if (self.rect_H-max_y)>(self.min_rect_dim+2*self.pad):\n",
    "#                 print(\"space found on top: \", self.rect_H-max_y)\n",
    "                return True\n",
    "            else:\n",
    "                return False\n",
    "        if bottom:\n",
    "            if min_y>(self.min_rect_dim+2*self.pad):\n",
    "                return True\n",
    "            else:\n",
    "                return False\n",
    "            \n",
    "            \n",
    "    def draw_boundary_rectangles(self, boundaries):\n",
    "        \"\"\"\n",
    "        Draw new reactangles near boundaries if boundary conditions satisfy\n",
    "        \"\"\"\n",
    "        recs = []\n",
    "        rectangle = {\"x\": 0,\"y\": 0,\"w\": 0,\"h\": 0}    \n",
    "        if self.check_boundary(boundaries, left=True):\n",
    "            rectangle[\"x\"] = 0+self.pad\n",
    "            rectangle[\"y\"] = 0+self.pad\n",
    "            rectangle[\"w\"] = self.min_x - (2*self.pad)\n",
    "            rectangle[\"h\"] = self.rect_H - (2*self.pad)\n",
    "            left = copy.deepcopy(rectangle)\n",
    "            recs.append(left)\n",
    "\n",
    "        if self.check_boundary(boundaries, right=True):\n",
    "            rectangle[\"x\"] = self.max_x + self.pad\n",
    "            rectangle[\"y\"] = 0+self.pad\n",
    "            rectangle[\"w\"] = self.rect_W - self.max_x - (2*self.pad)\n",
    "            rectangle[\"h\"] = self.rect_H - (2*self.pad)\n",
    "            right = copy.deepcopy(rectangle)\n",
    "            recs.append(right)\n",
    "\n",
    "        if self.check_boundary(boundaries, top=True):\n",
    "#             print(\"Space on top\")\n",
    "            rectangle[\"x\"] = self.min_x\n",
    "            rectangle[\"y\"] = self.max_y + self.pad\n",
    "            rectangle[\"w\"] = self.max_x - self.min_x\n",
    "            rectangle[\"h\"] = self.rect_H - self.max_y - self.pad\n",
    "            top = copy.deepcopy(rectangle)\n",
    "#             print(\"top: \", top)\n",
    "            recs.append(top)\n",
    "\n",
    "        if self.check_boundary(boundaries, bottom=True):\n",
    "            rectangle[\"x\"] = self.min_x\n",
    "            rectangle[\"y\"] = 0+self.pad\n",
    "            rectangle[\"w\"] = self.max_x-self.min_x\n",
    "            rectangle[\"h\"] = self.min_y-(2*self.pad)\n",
    "            bottom = copy.deepcopy(rectangle)\n",
    "            recs.append(bottom)\n",
    "        return recs\n",
    "\n",
    "\n",
    "    def is_left_up(self, rect1_lb, rect2_lb):\n",
    "        \"\"\"\n",
    "        Method to check if left small rectangle is higher than the right rectangle \n",
    "        \n",
    "        Parameters:\n",
    "        rect1_lb: left bottom of 1st rect\n",
    "        rect2_lb: left bottom of 2nd rect\n",
    "        \"\"\"\n",
    "        if rect1_lb[0]<rect2_lb[0]:\n",
    "            left_box = rect1_lb\n",
    "            right_box = rect2_lb\n",
    "        else:\n",
    "            left_box = rect2_lb\n",
    "            right_box = rect1_lb\n",
    "        if left_box[1]>right_box[1]:\n",
    "            return True\n",
    "        else:\n",
    "            return False\n",
    "        \n",
    "    \n",
    "    def draw_all_rectangles(self):\n",
    "        \"\"\"\n",
    "        Draws all possible rectangles based on the small rectangle positions\n",
    "        \"\"\"\n",
    "        # Getting boundary rectangles based on \"min rectangle side length\" boundary condition\n",
    "        if (self.rect1_lb[0]==self.rect2_lb[0]) or (self.rect1_lb[1]==self.rect2_lb[1]):\n",
    "            boundary_recs = self.draw_boundary_rectangles(self.boundaries)\n",
    "            self.new_rectangles.extend(boundary_recs)\n",
    "            return self.new_rectangles\n",
    "            \n",
    "        boundary_recs = self.draw_boundary_rectangles(self.boundaries)\n",
    "        self.new_rectangles.extend(boundary_recs)\n",
    "\n",
    "        if self.is_left_up(self.rect1_lb, self.rect2_lb):\n",
    "            box1 = {}\n",
    "            box1[\"x\"] = min(self.rect1_rt[0], self.rect2_rt[0])+self.pad\n",
    "            box1[\"y\"] = min(self.rect1_rt[1], self.rect2_rt[1])+self.pad\n",
    "            box1[\"w\"] = abs(self.rect1_rt[0] - self.rect2_rt[0])-self.pad\n",
    "            box1[\"h\"] = abs(self.rect1_rt[1] - self.rect2_rt[1])-self.pad\n",
    "            self.new_rectangles.append(box1)\n",
    "            \n",
    "            # condition to check if there is side overlap\n",
    "            if max(self.rect1_lb[0], self.rect2_lb[0]) > self.min_x+self.rect_w+(2*self.pad):\n",
    "                box3 = {}\n",
    "                box3[\"x\"] = self.min_x\n",
    "                box3[\"y\"] = self.min_y\n",
    "                box3[\"w\"] = self.rect_w\n",
    "                box3[\"h\"] = max(self.rect1_lb[1], self.rect2_lb[1]) - self.min_y - self.pad\n",
    "                self.new_rectangles.append(box3)\n",
    "                \n",
    "                box2 = {}\n",
    "                box2[\"x\"] = min(self.rect1_rt[0], self.rect2_rt[0])+self.pad\n",
    "                box2[\"y\"] = self.min_y\n",
    "                box2[\"w\"] = max(self.rect1_lb[0], self.rect2_lb[0])-min(self.rect1_rt[0], self.rect2_rt[0])-(2*self.pad)\n",
    "                box2[\"h\"] = self.rect_h\n",
    "                self.new_rectangles.append(box2)\n",
    "            else:\n",
    "                box2 = {}\n",
    "                box2[\"x\"] = self.min_x\n",
    "                box2[\"y\"] = self.min_y\n",
    "                box2[\"w\"] = abs(self.rect1_lb[0] - self.rect2_lb[0])-self.pad\n",
    "                box2[\"h\"] = abs(self.rect1_lb[1] - self.rect2_lb[1])-self.pad\n",
    "                self.new_rectangles.append(box2)\n",
    "             \n",
    "        else:\n",
    "            box1 = {}\n",
    "            box1[\"x\"] = self.min_x\n",
    "            box1[\"y\"] = min(self.rect1_rt[1], self.rect2_rt[1])+self.pad\n",
    "            box1[\"w\"] = abs(self.rect1_lb[0] - self.rect2_lb[0])-self.pad\n",
    "            box1[\"h\"] = abs(self.rect1_rt[1] - self.rect2_rt[1])-self.pad\n",
    "            self.new_rectangles.append(box1)\n",
    "            \n",
    "            # condition to check if there is side overlap\n",
    "            if max(self.rect1_lb[0], self.rect2_lb[0])>self.min_x+self.rect_w+(2*self.pad):\n",
    "                box3 = {}\n",
    "                box3[\"x\"] = max(self.rect1_lb[0], self.rect2_lb[0])\n",
    "                box3[\"y\"] = self.min_y\n",
    "                box3[\"w\"] = self.rect_w\n",
    "                box3[\"h\"] = max(self.rect1_lb[1], self.rect2_lb[1])-self.min_y-self.pad\n",
    "                self.new_rectangles.append(box3)\n",
    "                \n",
    "                box2 = {}\n",
    "                box2[\"x\"] = min(self.rect1_rt[0], self.rect2_rt[0])+self.pad\n",
    "                box2[\"y\"] = self.min_y\n",
    "                box2[\"w\"] = max(self.rect1_lb[0], self.rect2_lb[0])-min(self.rect1_rt[0], self.rect2_rt[0])-(2*self.pad)\n",
    "                box2[\"h\"] = self.rect_h\n",
    "                self.new_rectangles.append(box2)\n",
    "            else:  \n",
    "                \n",
    "                box2 = {}\n",
    "                box2[\"x\"] = min(self.rect1_rt[0], self.rect2_rt[0])+self.pad\n",
    "                box2[\"y\"] = self.min_y\n",
    "                box2[\"w\"] = abs(self.rect1_rt[0] - self.rect2_rt[0])-self.pad\n",
    "                box2[\"h\"] = abs(self.rect1_lb[1] - self.rect2_lb[1])-self.pad\n",
    "                self.new_rectangles.append(box2)\n",
    "        \n",
    "        return self.new_rectangles\n",
    "    \n",
    "    \n",
    "    def visualize(self, all_recs):\n",
    "        \"\"\"\n",
    "        Method to visualize all rectangles\n",
    "        Parameters:\n",
    "        \n",
    "        all_recs (dict): all new rectangles found\n",
    "        \"\"\"\n",
    "        o_h,o_w = self.rect_H, self.rect_W\n",
    "        img_1 = np.zeros([o_h,o_w,3],dtype=np.uint8)\n",
    "        img_1.fill(255)\n",
    "\n",
    "        inner_rect_cord = [self.rect1_lb, self.rect2_lb]\n",
    "\n",
    "        for i in inner_rect_cord:\n",
    "            cv2.rectangle(img_1, i, (i[0]+rec.rect_w, i[1]+rec.rect_h), (255, 0, 0), 6)\n",
    "\n",
    "        for i in all_recs:\n",
    "            cv2.rectangle(img_1, (i['x'], i['y']), (i['x']+i['w'], i['y']+i['h']), (0, 0, 255), 3)\n",
    "\n",
    "        img = img_1[:,:,::-1]\n",
    "        plt.imshow(img_1)\n",
    "        plt.gca().invert_yaxis()\n",
    "        plt.show()\n",
    "\n",
    "    \n",
    "\n"
   ]
  },
  {
   "cell_type": "markdown",
   "metadata": {},
   "source": [
    "### Method results on different input configurations"
   ]
  },
  {
   "cell_type": "code",
   "execution_count": 3,
   "metadata": {},
   "outputs": [
    {
     "name": "stdout",
     "output_type": "stream",
     "text": [
      "6 new rectangles found:  [{'x': 505, 'y': 5, 'w': 90, 'h': 490}, {'x': 0, 'y': 355, 'w': 500, 'h': 145}, {'x': 0, 'y': 5, 'w': 500, 'h': 90}, {'x': 0, 'y': 205, 'w': 295, 'h': 145}, {'x': 300, 'y': 100, 'w': 200, 'h': 145}, {'x': 205, 'y': 100, 'w': 90, 'h': 100}]\n"
     ]
    },
    {
     "data": {
      "image/png": "[encoded data removed]",
      "text/plain": [
       "<Figure size 432x288 with 1 Axes>"
      ]
     },
     "metadata": {
      "needs_background": "light"
     },
     "output_type": "display_data"
    }
   ],
   "source": [
    "rec = fill_rectangles(rect_H=500, rect_W=600, rect_h=100, rect_w=200, rect1_lb=(0,100), rect2_lb=(300,250))\n",
    "all_recs = rec.draw_all_rectangles()\n",
    "print(f\"{len(all_recs)} new rectangles found: \", all_recs)\n",
    "rec.visualize(all_recs)"
   ]
  },
  {
   "cell_type": "code",
   "execution_count": 4,
   "metadata": {},
   "outputs": [
    {
     "name": "stdout",
     "output_type": "stream",
     "text": [
      "6 new rectangles found:  [{'x': 405, 'y': 5, 'w': 90, 'h': 490}, {'x': 0, 'y': 405, 'w': 400, 'h': 95}, {'x': 0, 'y': 5, 'w': 400, 'h': 140}, {'x': 105, 'y': 255, 'w': 295, 'h': 145}, {'x': 0, 'y': 150, 'w': 100, 'h': 145}, {'x': 105, 'y': 150, 'w': 190, 'h': 100}]\n"
     ]
    },
    {
     "data": {
      "image/png": "[encoded data removed]",
      "text/plain": [
       "<Figure size 432x288 with 1 Axes>"
      ]
     },
     "metadata": {
      "needs_background": "light"
     },
     "output_type": "display_data"
    }
   ],
   "source": [
    "rec = fill_rectangles(rect_H=500, rect_W=500, rect_h=100, rect_w=100, rect1_lb=(0,300), rect2_lb=(300,150))\n",
    "all_recs = rec.draw_all_rectangles()\n",
    "print(f\"{len(all_recs)} new rectangles found: \", all_recs)\n",
    "rec.visualize(all_recs)"
   ]
  },
  {
   "cell_type": "code",
   "execution_count": 5,
   "metadata": {},
   "outputs": [
    {
     "name": "stdout",
     "output_type": "stream",
     "text": [
      "5 new rectangles found:  [{'x': 5, 'y': 5, 'w': 190, 'h': 490}, {'x': 200, 'y': 305, 'w': 300, 'h': 195}, {'x': 200, 'y': 5, 'w': 300, 'h': 140}, {'x': 405, 'y': 255, 'w': 95, 'h': 45}, {'x': 200, 'y': 150, 'w': 95, 'h': 45}]\n"
     ]
    },
    {
     "data": {
      "image/png": "[encoded data removed]",
      "text/plain": [
       "<Figure size 432x288 with 1 Axes>"
      ]
     },
     "metadata": {
      "needs_background": "light"
     },
     "output_type": "display_data"
    }
   ],
   "source": [
    "rec = fill_rectangles(rect_H=500, rect_W=500, rect_h=100, rect_w=200, rect1_lb=(200,200), rect2_lb=(300,150))\n",
    "all_recs = rec.draw_all_rectangles()\n",
    "print(f\"{len(all_recs)} new rectangles found: \", all_recs)\n",
    "rec.visualize(all_recs)"
   ]
  },
  {
   "cell_type": "code",
   "execution_count": 6,
   "metadata": {},
   "outputs": [
    {
     "name": "stdout",
     "output_type": "stream",
     "text": [
      "7 new rectangles found:  [{'x': 5, 'y': 5, 'w': 90, 'h': 490}, {'x': 405, 'y': 5, 'w': 90, 'h': 490}, {'x': 100, 'y': 455, 'w': 300, 'h': 45}, {'x': 100, 'y': 5, 'w': 300, 'h': 190}, {'x': 100, 'y': 305, 'w': 195, 'h': 145}, {'x': 300, 'y': 200, 'w': 100, 'h': 145}, {'x': 205, 'y': 200, 'w': 90, 'h': 100}]\n"
     ]
    },
    {
     "data": {
      "image/png": "[encoded data removed]",
      "text/plain": [
       "<Figure size 432x288 with 1 Axes>"
      ]
     },
     "metadata": {
      "needs_background": "light"
     },
     "output_type": "display_data"
    }
   ],
   "source": [
    "rec = fill_rectangles(rect_H=500, rect_W=500, rect_h=100, rect_w=100, rect1_lb=(100,200), rect2_lb=(300,350))\n",
    "all_recs = rec.draw_all_rectangles()\n",
    "print(f\"{len(all_recs)} new rectangles found: \", all_recs)\n",
    "rec.visualize(all_recs)"
   ]
  },
  {
   "cell_type": "code",
   "execution_count": 7,
   "metadata": {},
   "outputs": [
    {
     "name": "stdout",
     "output_type": "stream",
     "text": [
      "4 new rectangles found:  [{'x': 0, 'y': 5, 'w': 500, 'h': 190}, {'x': 0, 'y': 355, 'w': 395, 'h': 145}, {'x': 400, 'y': 200, 'w': 100, 'h': 145}, {'x': 105, 'y': 200, 'w': 290, 'h': 150}]\n"
     ]
    },
    {
     "data": {
      "image/png": "[encoded data removed]",
      "text/plain": [
       "<Figure size 432x288 with 1 Axes>"
      ]
     },
     "metadata": {
      "needs_background": "light"
     },
     "output_type": "display_data"
    }
   ],
   "source": [
    "rec = fill_rectangles(rect_H=500, rect_W=500, rect_h=150, rect_w=100, rect1_lb=(0,200), rect2_lb=(400,350))\n",
    "all_recs = rec.draw_all_rectangles()\n",
    "print(f\"{len(all_recs)} new rectangles found: \", all_recs)\n",
    "rec.visualize(all_recs)"
   ]
  },
  {
   "cell_type": "code",
   "execution_count": 8,
   "metadata": {},
   "outputs": [
    {
     "name": "stdout",
     "output_type": "stream",
     "text": [
      "3 new rectangles found:  [{'x': 105, 'y': 105, 'w': 395, 'h': 395}, {'x': 0, 'y': 0, 'w': 100, 'h': 395}, {'x': 105, 'y': 0, 'w': 290, 'h': 100}]\n"
     ]
    },
    {
     "data": {
      "image/png": "[encoded data removed]",
      "text/plain": [
       "<Figure size 432x288 with 1 Axes>"
      ]
     },
     "metadata": {
      "needs_background": "light"
     },
     "output_type": "display_data"
    }
   ],
   "source": [
    "rec = fill_rectangles(rect_H=500, rect_W=500, rect_h=100, rect_w=100, rect1_lb=(0,400), rect2_lb=(400,0))\n",
    "all_recs = rec.draw_all_rectangles()\n",
    "print(f\"{len(all_recs)} new rectangles found: \", all_recs)\n",
    "rec.visualize(all_recs)"
   ]
  },
  {
   "cell_type": "code",
   "execution_count": 9,
   "metadata": {},
   "outputs": [
    {
     "name": "stdout",
     "output_type": "stream",
     "text": [
      "4 new rectangles found:  [{'x': 5, 'y': 5, 'w': 90, 'h': 490}, {'x': 405, 'y': 5, 'w': 90, 'h': 490}, {'x': 100, 'y': 305, 'w': 300, 'h': 195}, {'x': 100, 'y': 5, 'w': 300, 'h': 190}]\n"
     ]
    },
    {
     "data": {
      "image/png": "[encoded data removed]",
      "text/plain": [
       "<Figure size 432x288 with 1 Axes>"
      ]
     },
     "metadata": {
      "needs_background": "light"
     },
     "output_type": "display_data"
    }
   ],
   "source": [
    "rec = fill_rectangles(rect_H=500, rect_W=500, rect_h=100, rect_w=150, rect1_lb=(100,200), rect2_lb=(250,200))\n",
    "all_recs = rec.draw_all_rectangles()\n",
    "print(f\"{len(all_recs)} new rectangles found: \", all_recs)\n",
    "rec.visualize(all_recs)"
   ]
  },
  {
   "cell_type": "markdown",
   "metadata": {},
   "source": [
    "### Raise Exception when inner rectangle dimentions exceeds outer rectangle dimentions"
   ]
  },
  {
   "cell_type": "code",
   "execution_count": 10,
   "metadata": {},
   "outputs": [
    {
     "ename": "Exception",
     "evalue": "Inner rectangle width cannot be more than image width",
     "output_type": "error",
     "traceback": [
      "\u001b[0;31m---------------------------------------------------------------------------\u001b[0m",
      "\u001b[0;31mException\u001b[0m                                 Traceback (most recent call last)",
      "\u001b[0;32m<ipython-input-10-495c97040eca>\u001b[0m in \u001b[0;36m<module>\u001b[0;34m\u001b[0m\n\u001b[0;32m----> 1\u001b[0;31m \u001b[0mrec\u001b[0m \u001b[0;34m=\u001b[0m \u001b[0mfill_rectangles\u001b[0m\u001b[0;34m(\u001b[0m\u001b[0mrect_H\u001b[0m\u001b[0;34m=\u001b[0m\u001b[0;36m500\u001b[0m\u001b[0;34m,\u001b[0m \u001b[0mrect_W\u001b[0m\u001b[0;34m=\u001b[0m\u001b[0;36m500\u001b[0m\u001b[0;34m,\u001b[0m \u001b[0mrect_h\u001b[0m\u001b[0;34m=\u001b[0m\u001b[0;36m150\u001b[0m\u001b[0;34m,\u001b[0m \u001b[0mrect_w\u001b[0m\u001b[0;34m=\u001b[0m\u001b[0;36m300\u001b[0m\u001b[0;34m,\u001b[0m \u001b[0mrect1_lb\u001b[0m\u001b[0;34m=\u001b[0m\u001b[0;34m(\u001b[0m\u001b[0;36m0\u001b[0m\u001b[0;34m,\u001b[0m\u001b[0;36m200\u001b[0m\u001b[0;34m)\u001b[0m\u001b[0;34m,\u001b[0m \u001b[0mrect2_lb\u001b[0m\u001b[0;34m=\u001b[0m\u001b[0;34m(\u001b[0m\u001b[0;36m400\u001b[0m\u001b[0;34m,\u001b[0m\u001b[0;36m350\u001b[0m\u001b[0;34m)\u001b[0m\u001b[0;34m)\u001b[0m\u001b[0;34m\u001b[0m\u001b[0;34m\u001b[0m\u001b[0m\n\u001b[0m\u001b[1;32m      2\u001b[0m \u001b[0mall_recs\u001b[0m \u001b[0;34m=\u001b[0m \u001b[0mrec\u001b[0m\u001b[0;34m.\u001b[0m\u001b[0mdraw_all_rectangles\u001b[0m\u001b[0;34m(\u001b[0m\u001b[0;34m)\u001b[0m\u001b[0;34m\u001b[0m\u001b[0;34m\u001b[0m\u001b[0m\n\u001b[1;32m      3\u001b[0m \u001b[0mprint\u001b[0m\u001b[0;34m(\u001b[0m\u001b[0;34mf\"{len(all_recs)} new rectangles found: \"\u001b[0m\u001b[0;34m,\u001b[0m \u001b[0mall_recs\u001b[0m\u001b[0;34m)\u001b[0m\u001b[0;34m\u001b[0m\u001b[0;34m\u001b[0m\u001b[0m\n\u001b[1;32m      4\u001b[0m \u001b[0mrec\u001b[0m\u001b[0;34m.\u001b[0m\u001b[0mvisualize\u001b[0m\u001b[0;34m(\u001b[0m\u001b[0mall_recs\u001b[0m\u001b[0;34m)\u001b[0m\u001b[0;34m\u001b[0m\u001b[0;34m\u001b[0m\u001b[0m\n",
      "\u001b[0;32m<ipython-input-2-5a72c46afde2>\u001b[0m in \u001b[0;36m__init__\u001b[0;34m(self, rect_H, rect_W, rect_h, rect_w, rect1_lb, rect2_lb)\u001b[0m\n\u001b[1;32m     39\u001b[0m             \u001b[0;32mraise\u001b[0m \u001b[0mException\u001b[0m\u001b[0;34m(\u001b[0m\u001b[0;34m\"Inner rectangle height cannot be more than image height\"\u001b[0m\u001b[0;34m)\u001b[0m\u001b[0;34m\u001b[0m\u001b[0;34m\u001b[0m\u001b[0m\n\u001b[1;32m     40\u001b[0m         \u001b[0;32mif\u001b[0m \u001b[0;34m(\u001b[0m\u001b[0mself\u001b[0m\u001b[0;34m.\u001b[0m\u001b[0mrect1_rt\u001b[0m\u001b[0;34m[\u001b[0m\u001b[0;36m0\u001b[0m\u001b[0;34m]\u001b[0m\u001b[0;34m>\u001b[0m\u001b[0mself\u001b[0m\u001b[0;34m.\u001b[0m\u001b[0mrect_W\u001b[0m\u001b[0;34m)\u001b[0m \u001b[0;32mor\u001b[0m \u001b[0;34m(\u001b[0m\u001b[0mself\u001b[0m\u001b[0;34m.\u001b[0m\u001b[0mrect2_rt\u001b[0m\u001b[0;34m[\u001b[0m\u001b[0;36m0\u001b[0m\u001b[0;34m]\u001b[0m\u001b[0;34m>\u001b[0m\u001b[0mself\u001b[0m\u001b[0;34m.\u001b[0m\u001b[0mrect_W\u001b[0m\u001b[0;34m)\u001b[0m\u001b[0;34m:\u001b[0m\u001b[0;34m\u001b[0m\u001b[0;34m\u001b[0m\u001b[0m\n\u001b[0;32m---> 41\u001b[0;31m             \u001b[0;32mraise\u001b[0m \u001b[0mException\u001b[0m\u001b[0;34m(\u001b[0m\u001b[0;34m\"Inner rectangle width cannot be more than image width\"\u001b[0m\u001b[0;34m)\u001b[0m\u001b[0;34m\u001b[0m\u001b[0;34m\u001b[0m\u001b[0m\n\u001b[0m\u001b[1;32m     42\u001b[0m \u001b[0;34m\u001b[0m\u001b[0m\n\u001b[1;32m     43\u001b[0m         \u001b[0;31m# Minimum and maximum x, y values\u001b[0m\u001b[0;34m\u001b[0m\u001b[0;34m\u001b[0m\u001b[0;34m\u001b[0m\u001b[0m\n",
      "\u001b[0;31mException\u001b[0m: Inner rectangle width cannot be more than image width"
     ]
    }
   ],
   "source": [
    "rec = fill_rectangles(rect_H=500, rect_W=500, rect_h=150, rect_w=300, rect1_lb=(0,200), rect2_lb=(400,350))\n",
    "all_recs = rec.draw_all_rectangles()\n",
    "print(f\"{len(all_recs)} new rectangles found: \", all_recs)\n",
    "rec.visualize(all_recs)"
   ]
  },
  {
   "cell_type": "code",
   "execution_count": null,
   "metadata": {},
   "outputs": [],
   "source": []
  }
 ],
 "metadata": {
  "kernelspec": {
   "display_name": "Python 3",
   "language": "python",
   "name": "python3"
  },
  "language_info": {
   "codemirror_mode": {
    "name": "ipython",
    "version": 3
   },
   "file_extension": ".py",
   "mimetype": "text/x-python",
   "name": "python",
   "nbconvert_exporter": "python",
   "pygments_lexer": "ipython3",
   "version": "3.7.6"
  }
 },
 "nbformat": 4,
 "nbformat_minor": 4
}
